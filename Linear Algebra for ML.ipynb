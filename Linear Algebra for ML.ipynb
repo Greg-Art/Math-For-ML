{
 "cells": [
  {
   "cell_type": "code",
   "execution_count": 3,
   "id": "4d39da04-1535-43a7-bf4f-888df2d43f2c",
   "metadata": {},
   "outputs": [],
   "source": [
    "import numpy as np\n",
    "import torch as pt \n",
    "import matplotlib.pyplot as plt"
   ]
  },
  {
   "cell_type": "markdown",
   "id": "fe74e7bf-54f8-4a8b-8aca-5b975a4633fa",
   "metadata": {},
   "source": [
    "## i. Scalars"
   ]
  },
  {
   "cell_type": "code",
   "execution_count": 4,
   "id": "2f31d29d-3084-4560-8e8a-9feabc722209",
   "metadata": {},
   "outputs": [],
   "source": [
    "x= 25"
   ]
  },
  {
   "cell_type": "code",
   "execution_count": 5,
   "id": "8b25df69-6e30-4533-9ccb-b19e7d581e08",
   "metadata": {},
   "outputs": [
    {
     "data": {
      "text/plain": [
       "int"
      ]
     },
     "execution_count": 5,
     "metadata": {},
     "output_type": "execute_result"
    }
   ],
   "source": [
    "type(x)"
   ]
  },
  {
   "cell_type": "code",
   "execution_count": 6,
   "id": "9e5c86fd-e1ca-4501-8057-eb4a587002fc",
   "metadata": {},
   "outputs": [],
   "source": [
    "y= 10"
   ]
  },
  {
   "cell_type": "code",
   "execution_count": 7,
   "id": "db859732-7453-49e2-8cc4-3b0dc21a8b69",
   "metadata": {},
   "outputs": [],
   "source": [
    "sum_scalar= x+y"
   ]
  },
  {
   "cell_type": "code",
   "execution_count": 8,
   "id": "255b247e-2990-4fcc-90af-f6634524d290",
   "metadata": {},
   "outputs": [
    {
     "data": {
      "text/plain": [
       "35"
      ]
     },
     "execution_count": 8,
     "metadata": {},
     "output_type": "execute_result"
    }
   ],
   "source": [
    "sum_scalar"
   ]
  },
  {
   "cell_type": "markdown",
   "id": "23d6b69d-d7a1-49ef-996c-7fd019ad313e",
   "metadata": {},
   "source": [
    "### Using PyTorch"
   ]
  },
  {
   "cell_type": "code",
   "execution_count": 9,
   "id": "37323f92-73b1-423c-8fac-c861033f0363",
   "metadata": {},
   "outputs": [],
   "source": [
    "x_scalar= pt.tensor(25)"
   ]
  },
  {
   "cell_type": "code",
   "execution_count": 10,
   "id": "f4898000-073c-43b2-9459-2ec6b9d31d6b",
   "metadata": {},
   "outputs": [
    {
     "data": {
      "text/plain": [
       "tensor(25)"
      ]
     },
     "execution_count": 10,
     "metadata": {},
     "output_type": "execute_result"
    }
   ],
   "source": [
    "x_scalar"
   ]
  },
  {
   "cell_type": "code",
   "execution_count": 11,
   "id": "049600f2-6d98-4bbd-8a8c-5701a4431df8",
   "metadata": {},
   "outputs": [
    {
     "data": {
      "text/plain": [
       "torch.Size([])"
      ]
     },
     "execution_count": 11,
     "metadata": {},
     "output_type": "execute_result"
    }
   ],
   "source": [
    "x_scalar.shape"
   ]
  },
  {
   "cell_type": "code",
   "execution_count": 12,
   "id": "7bf1339c-597d-4c10-8b81-af5fa587de6c",
   "metadata": {},
   "outputs": [],
   "source": [
    "y_scalar= pt.tensor(335)"
   ]
  },
  {
   "cell_type": "code",
   "execution_count": 13,
   "id": "8c392b4c-ace1-4f70-86e2-2a5fc0ca09b9",
   "metadata": {},
   "outputs": [],
   "source": [
    "pt_sum= x_scalar + y_scalar"
   ]
  },
  {
   "cell_type": "code",
   "execution_count": 14,
   "id": "68117cff-fdab-40ad-ab75-c2bee67e165c",
   "metadata": {},
   "outputs": [
    {
     "data": {
      "text/plain": [
       "tensor(360)"
      ]
     },
     "execution_count": 14,
     "metadata": {},
     "output_type": "execute_result"
    }
   ],
   "source": [
    "pt_sum"
   ]
  },
  {
   "cell_type": "code",
   "execution_count": 15,
   "id": "8b09e20d-8d1c-4c82-88fe-63fbcd59d8ba",
   "metadata": {},
   "outputs": [
    {
     "data": {
      "text/plain": [
       "torch.Size([])"
      ]
     },
     "execution_count": 15,
     "metadata": {},
     "output_type": "execute_result"
    }
   ],
   "source": [
    "pt_sum.shape"
   ]
  },
  {
   "cell_type": "code",
   "execution_count": 16,
   "id": "7cfe34ce-f24d-463e-9cd7-18386a90d9c7",
   "metadata": {},
   "outputs": [
    {
     "data": {
      "text/plain": [
       "0"
      ]
     },
     "execution_count": 16,
     "metadata": {},
     "output_type": "execute_result"
    }
   ],
   "source": [
    "pt_sum.ndim"
   ]
  },
  {
   "cell_type": "markdown",
   "id": "1d69bbeb-7606-4d8f-8fb4-f7b284a2cf1e",
   "metadata": {},
   "source": [
    "## Vectors"
   ]
  },
  {
   "cell_type": "markdown",
   "id": "5238b17a-b692-49c4-8cd0-7f369025f81e",
   "metadata": {},
   "source": [
    "### i. Building a vector in numpy"
   ]
  },
  {
   "cell_type": "code",
   "execution_count": 17,
   "id": "932faa07-60bf-45c9-a088-d067c111f1bf",
   "metadata": {},
   "outputs": [],
   "source": [
    "np_vector_x= np.array([2,3])"
   ]
  },
  {
   "cell_type": "code",
   "execution_count": 18,
   "id": "0e1d35e7-b14c-4978-a188-edbb1b63a459",
   "metadata": {},
   "outputs": [
    {
     "data": {
      "text/plain": [
       "array([2, 3])"
      ]
     },
     "execution_count": 18,
     "metadata": {},
     "output_type": "execute_result"
    }
   ],
   "source": [
    "np_vector_x"
   ]
  },
  {
   "cell_type": "code",
   "execution_count": 19,
   "id": "2cf1357d-ac07-4afd-b3bd-971b9e3a749b",
   "metadata": {},
   "outputs": [],
   "source": [
    "np_vector_y= np.array([5,4])"
   ]
  },
  {
   "cell_type": "code",
   "execution_count": 20,
   "id": "1d9dbf38-362b-4a5e-82c4-6dfc8ae9b204",
   "metadata": {},
   "outputs": [
    {
     "name": "stdout",
     "output_type": "stream",
     "text": [
      "The shape of vector [2 3] is (2,) and its dimension is 1\n"
     ]
    }
   ],
   "source": [
    "print(f\"The shape of vector {np_vector_x} is {np_vector_x.shape} and its dimension is {np_vector_x.ndim}\")"
   ]
  },
  {
   "cell_type": "markdown",
   "id": "b0778ba4-6afd-480f-8e59-a0c255c45d8b",
   "metadata": {},
   "source": [
    "### ii. Building a vector with pytorch"
   ]
  },
  {
   "cell_type": "code",
   "execution_count": 21,
   "id": "c8125712-3654-4f7e-8755-b728dd41d08c",
   "metadata": {},
   "outputs": [],
   "source": [
    "pt_vector_x= pt.tensor([2,3])"
   ]
  },
  {
   "cell_type": "code",
   "execution_count": 22,
   "id": "e7ce2ef2-2c72-4968-be6e-4d1f60b6639c",
   "metadata": {},
   "outputs": [
    {
     "data": {
      "text/plain": [
       "tensor([2, 3])"
      ]
     },
     "execution_count": 22,
     "metadata": {},
     "output_type": "execute_result"
    }
   ],
   "source": [
    "pt_vector_x"
   ]
  },
  {
   "cell_type": "code",
   "execution_count": 23,
   "id": "ff9baed8-fda8-4bdb-958b-042cacfe661f",
   "metadata": {},
   "outputs": [
    {
     "name": "stdout",
     "output_type": "stream",
     "text": [
      "The shape of vector tensor([2, 3]) is torch.Size([2]) and its dimension is 1\n"
     ]
    }
   ],
   "source": [
    "print(f\"The shape of vector {pt_vector_x} is {pt_vector_x.shape} and its dimension is {pt_vector_x.ndim}\")"
   ]
  },
  {
   "cell_type": "markdown",
   "id": "256d5dfb-1999-4354-afa1-88466826eb04",
   "metadata": {},
   "source": [
    "### iii. Some Vector to Vector Operations"
   ]
  },
  {
   "cell_type": "markdown",
   "id": "c6c57c4e-4287-4a5b-8bb8-76e6abfafd60",
   "metadata": {},
   "source": [
    "#### a. Transposing Vectors"
   ]
  },
  {
   "cell_type": "code",
   "execution_count": 24,
   "id": "27ffdaa0-927c-4342-9642-df62f1cb9458",
   "metadata": {},
   "outputs": [],
   "source": [
    "np_vector_x_transpose= np.transpose(np_vector_x)"
   ]
  },
  {
   "cell_type": "code",
   "execution_count": 25,
   "id": "9cee9fde-2b14-48df-a56e-bf72f9a3adcd",
   "metadata": {},
   "outputs": [
    {
     "data": {
      "text/plain": [
       "array([2, 3])"
      ]
     },
     "execution_count": 25,
     "metadata": {},
     "output_type": "execute_result"
    }
   ],
   "source": [
    "np_vector_x_transpose"
   ]
  },
  {
   "cell_type": "code",
   "execution_count": 26,
   "id": "cdc0e46b-0ff9-4888-acbb-b9bdbff87b71",
   "metadata": {},
   "outputs": [],
   "source": [
    "## as we can see after we transpose, there is no effect and this is because there is no second dimension to transpose to"
   ]
  },
  {
   "cell_type": "code",
   "execution_count": 27,
   "id": "9c0627f7-c598-48ad-a9fe-3219081f0eb2",
   "metadata": {},
   "outputs": [
    {
     "name": "stdout",
     "output_type": "stream",
     "text": [
      "The shape of vector [2 3] is (2,) and its dimension is 1\n"
     ]
    }
   ],
   "source": [
    "print(f\"The shape of vector {np_vector_x_transpose} is {np_vector_x_transpose.shape} and its dimension is {np_vector_x_transpose.ndim}\")"
   ]
  },
  {
   "cell_type": "markdown",
   "id": "23cd2b19-63cc-4c67-aa86-d4bae2ab9808",
   "metadata": {},
   "source": [
    "#### b. Multiplication, Addition, and Length\n"
   ]
  },
  {
   "cell_type": "code",
   "execution_count": 28,
   "id": "12b6b23f-b8a4-4d1a-9837-574da05f1222",
   "metadata": {},
   "outputs": [],
   "source": [
    "## we will be using pytorch for this section for fairness haha"
   ]
  },
  {
   "cell_type": "markdown",
   "id": "2529448c-a4c8-4d2d-a822-0696a4914095",
   "metadata": {},
   "source": [
    "##### Adding Two Vectors "
   ]
  },
  {
   "cell_type": "code",
   "execution_count": 29,
   "id": "06e96fd4-9385-4754-b807-03d5573300f5",
   "metadata": {},
   "outputs": [],
   "source": [
    "## we will create another vector y \n",
    "\n",
    "pt_vector_y= pt.tensor([3,4])"
   ]
  },
  {
   "cell_type": "code",
   "execution_count": 30,
   "id": "771cf49e-d3a1-4ec1-9844-9ecd78c1a035",
   "metadata": {},
   "outputs": [
    {
     "data": {
      "text/plain": [
       "tensor([3, 4])"
      ]
     },
     "execution_count": 30,
     "metadata": {},
     "output_type": "execute_result"
    }
   ],
   "source": [
    "pt_vector_y"
   ]
  },
  {
   "cell_type": "code",
   "execution_count": 31,
   "id": "24fe08da-435d-4c43-b685-2ea99b144baa",
   "metadata": {},
   "outputs": [
    {
     "name": "stdout",
     "output_type": "stream",
     "text": [
      "The shape of vector tensor([3, 4]) is torch.Size([2]) and its dimension is 1\n"
     ]
    }
   ],
   "source": [
    "print(f\"The shape of vector {pt_vector_y} is {pt_vector_y.shape} and its dimension is {pt_vector_y.ndim}\")"
   ]
  },
  {
   "cell_type": "code",
   "execution_count": 32,
   "id": "9dc8f7da-f346-4214-b2c2-6f8bfb84c008",
   "metadata": {},
   "outputs": [],
   "source": [
    "sum_pt_vectors= pt_vector_x + pt_vector_y"
   ]
  },
  {
   "cell_type": "code",
   "execution_count": 33,
   "id": "40778a49-a86b-4f08-b571-55a7d162607d",
   "metadata": {},
   "outputs": [
    {
     "name": "stdout",
     "output_type": "stream",
     "text": [
      "The sum of vector tensor([2, 3]) and tensor([3, 4]) is tensor([5, 7]).\n",
      "\n",
      "The shape of the summed vector tensor([5, 7]) is torch.Size([2]).\n",
      "\n",
      "Its dimension is 1  \n",
      "\n",
      " its type is <class 'torch.Tensor'>\n"
     ]
    }
   ],
   "source": [
    "print(f\"\"\"The sum of vector {pt_vector_x} and {pt_vector_y} is {sum_pt_vectors}.\n",
    "\\nThe shape of the summed vector {sum_pt_vectors} is {sum_pt_vectors.shape}.\n",
    "\\nIts dimension is {sum_pt_vectors.ndim}  \n",
    "\\n its type is {type(sum_pt_vectors)}\"\"\")"
   ]
  },
  {
   "cell_type": "markdown",
   "id": "581fb51c-0d5c-4841-bc74-8cbdee54c956",
   "metadata": {},
   "source": [
    "##### Multiplying A vector by a scalar"
   ]
  },
  {
   "cell_type": "code",
   "execution_count": 34,
   "id": "913e005d-6f88-4a2c-b09d-08f2b368f5e2",
   "metadata": {},
   "outputs": [
    {
     "data": {
      "text/plain": [
       "array([2, 3])"
      ]
     },
     "execution_count": 34,
     "metadata": {},
     "output_type": "execute_result"
    }
   ],
   "source": [
    "np_vector_x"
   ]
  },
  {
   "cell_type": "code",
   "execution_count": 35,
   "id": "0602451d-d2c5-4858-97f7-a41b289f1e63",
   "metadata": {},
   "outputs": [
    {
     "data": {
      "text/plain": [
       "array([4, 6])"
      ]
     },
     "execution_count": 35,
     "metadata": {},
     "output_type": "execute_result"
    }
   ],
   "source": [
    "2*np_vector_x"
   ]
  },
  {
   "cell_type": "code",
   "execution_count": 36,
   "id": "558cfc66-6f3e-442a-938b-0340188740d8",
   "metadata": {},
   "outputs": [
    {
     "data": {
      "text/plain": [
       "numpy.ndarray"
      ]
     },
     "execution_count": 36,
     "metadata": {},
     "output_type": "execute_result"
    }
   ],
   "source": [
    "type(np_vector_x)"
   ]
  },
  {
   "cell_type": "code",
   "execution_count": 37,
   "id": "3cce4b7e-3891-4de9-8fea-0c103aad23cf",
   "metadata": {},
   "outputs": [],
   "source": [
    "##As you can see even when we multiply a vector by a scalar, we get another vector "
   ]
  },
  {
   "cell_type": "code",
   "execution_count": 38,
   "id": "a65d3e29-4b25-4fff-bef2-db772419eb29",
   "metadata": {},
   "outputs": [],
   "source": [
    "import matplotlib.pyplot as plt"
   ]
  },
  {
   "cell_type": "code",
   "execution_count": 39,
   "id": "d11b06a8-ce26-468d-be08-7da231cdf1c7",
   "metadata": {},
   "outputs": [
    {
     "data": {
      "image/png": "[encoded data removed]",
      "text/plain": [
       "<Figure size 640x480 with 1 Axes>"
      ]
     },
     "metadata": {},
     "output_type": "display_data"
    }
   ],
   "source": [
    "# Plot pt_vector_x and pt_vector_y\n",
    "plt.plot(pt_vector_x.numpy(), marker='>', label='Vector X', color='blue')\n",
    "plt.plot(pt_vector_y.numpy(), marker='>', label='Vector Y', color='red')\n",
    "\n",
    "# Add labels and title\n",
    "plt.title(\"Plot of pt_vector_x and pt_vector_y\")\n",
    "plt.xlabel(\"Index\")\n",
    "plt.ylabel(\"Value\")\n",
    "plt.grid(True)\n",
    "plt.legend()\n",
    "\n",
    "# Show the plot\n",
    "plt.show()"
   ]
  },
  {
   "cell_type": "markdown",
   "id": "a10f769f-dd45-44c7-97d6-12363def350b",
   "metadata": {},
   "source": [
    "#### C. Vector Norms"
   ]
  },
  {
   "cell_type": "markdown",
   "id": "c7826847-70c0-4b7f-a2c2-87f18eda1e00",
   "metadata": {},
   "source": [
    "#### L1 Norm"
   ]
  },
  {
   "cell_type": "markdown",
   "id": "a337c8a7-104e-4e35-9386-28b35bb9d2fe",
   "metadata": {},
   "source": [
    "- This has to do with the summation of the absolute values of the coordinates in a vector or the differnce between corresponding points in a vector and then finding the absolute value of the difference\n",
    "  \n",
    "- This becomes useful in calculating loss functions such as MAE, where we find the absolute value of the diff between pred & actual values\n",
    "\n",
    "- This also treats every error equally "
   ]
  },
  {
   "cell_type": "code",
   "execution_count": 40,
   "id": "83cf5c52-014f-4741-92fd-f1bcb2d30a88",
   "metadata": {},
   "outputs": [
    {
     "name": "stdout",
     "output_type": "stream",
     "text": [
      "[2 3]\n",
      "[5 4]\n"
     ]
    }
   ],
   "source": [
    "##using our two vectors for this \n",
    "\n",
    "print(np_vector_x)\n",
    "print(np_vector_y)"
   ]
  },
  {
   "cell_type": "code",
   "execution_count": 41,
   "id": "14069245-6a1e-4b2c-9c41-06516d710c90",
   "metadata": {},
   "outputs": [],
   "source": [
    "## calculating it manually\n",
    "l1= abs(np_vector_x[0] -np_vector_y[0])+ abs(np_vector_x[1] -np_vector_y[1])"
   ]
  },
  {
   "cell_type": "code",
   "execution_count": 42,
   "id": "15f0778a-1c84-438a-b1c5-b5a3c79fde14",
   "metadata": {},
   "outputs": [
    {
     "data": {
      "text/plain": [
       "np.int64(4)"
      ]
     },
     "execution_count": 42,
     "metadata": {},
     "output_type": "execute_result"
    }
   ],
   "source": [
    "l1"
   ]
  },
  {
   "cell_type": "code",
   "execution_count": 43,
   "id": "d690c415-6a3c-43b9-9132-66d1f93c5abb",
   "metadata": {},
   "outputs": [
    {
     "data": {
      "text/plain": [
       "np.float64(4.0)"
      ]
     },
     "execution_count": 43,
     "metadata": {},
     "output_type": "execute_result"
    }
   ],
   "source": [
    "##using numpy for our calculations \n",
    "\n",
    "l1_np= np.linalg.norm(np_vector_x-np_vector_y, ord=1)\n",
    "l1_np"
   ]
  },
  {
   "cell_type": "markdown",
   "id": "025c044e-ebf4-4983-a09e-a86f111a5392",
   "metadata": {},
   "source": [
    "#### L2 Norm"
   ]
  },
  {
   "cell_type": "markdown",
   "id": "d8ab8872-f871-49bb-850d-ac7df0504d17",
   "metadata": {},
   "source": [
    "- Vector norms, specificall L2 norms, tell us the eucledian distance between 2 vectors or two points\n",
    "  \n",
    "- In ML, this can tell us how far apart two vectors are and can be useful in a case of KNN in classifying/grouping similar features.\n",
    "\n",
    "- We can also use it in evaluation metrics like RMSE to determine how the difference between the predicted value and the actual values "
   ]
  },
  {
   "cell_type": "code",
   "execution_count": 44,
   "id": "4ea6f0c5-c831-4869-8ca1-b9873c20d04d",
   "metadata": {},
   "outputs": [
    {
     "name": "stdout",
     "output_type": "stream",
     "text": [
      "[2 3]\n",
      "[5 4]\n"
     ]
    }
   ],
   "source": [
    "##using our two vectors for this \n",
    "\n",
    "print(np_vector_x)\n",
    "print(np_vector_y)"
   ]
  },
  {
   "cell_type": "code",
   "execution_count": 45,
   "id": "c2eadd98-8f6f-49b7-a635-972d1764953c",
   "metadata": {},
   "outputs": [],
   "source": [
    "l2= np.sqrt(((np_vector_x[0]-np_vector_y[0])**2)+((np_vector_x[1]-np_vector_y[1])**2))"
   ]
  },
  {
   "cell_type": "code",
   "execution_count": 46,
   "id": "b3a3a57d-1e32-4330-aeb7-84f4208b5b3e",
   "metadata": {},
   "outputs": [
    {
     "name": "stdout",
     "output_type": "stream",
     "text": [
      "The Euclidien Distance Between [2 3] and [5 4] is 3.162\n"
     ]
    }
   ],
   "source": [
    "print(f\"The Euclidien Distance Between {np_vector_x} and {np_vector_y} is {round(l2,3)}\")"
   ]
  },
  {
   "cell_type": "code",
   "execution_count": 47,
   "id": "567b91e6-3aaf-4996-983b-282a90ded3b3",
   "metadata": {},
   "outputs": [
    {
     "data": {
      "text/plain": [
       "np.float64(3.162)"
      ]
     },
     "execution_count": 47,
     "metadata": {},
     "output_type": "execute_result"
    }
   ],
   "source": [
    "## we can use numpy for this as well\n",
    "\n",
    "round(np.linalg.norm(np_vector_x-np_vector_y),3)"
   ]
  },
  {
   "cell_type": "markdown",
   "id": "1b2ebc3a-ff16-4efb-97d5-5a42c04f7313",
   "metadata": {},
   "source": [
    "#### L2 Square Norm\n",
    "\n",
    "- This is basically a multiplication of the transpose of the vector by itself; basically we are multiplying the row vector of a vector by a column vector\n",
    "\n",
    "- Please note this isn't the dot product between two different vectors; it is the dot product between a vector and its self.\n",
    "  \n",
    "- Essentially, it is a L2 norm without the need for the square root, allowing for faster computation making it ideal for cleaner loss fucntion computation\n",
    "  \n",
    "- It's relevance in ML is that it is used in MSE calculations and it punishes outliers\n",
    "\n",
    "- Apparently, there is no np function for this "
   ]
  },
  {
   "cell_type": "code",
   "execution_count": 48,
   "id": "bc83ceed-854a-4d8a-ac4c-c97ced5e7e17",
   "metadata": {},
   "outputs": [
    {
     "name": "stdout",
     "output_type": "stream",
     "text": [
      "[2 3]\n",
      "[5 4]\n"
     ]
    }
   ],
   "source": [
    "##using our two vectors for this again\n",
    "\n",
    "print(np_vector_x)\n",
    "print(np_vector_y)"
   ]
  },
  {
   "cell_type": "code",
   "execution_count": 49,
   "id": "9e77ca55-05c1-49d7-9518-28bb3232e10f",
   "metadata": {},
   "outputs": [],
   "source": [
    "l2_sqrd_norm= ((np_vector_x[0] - np_vector_y[0])**2 +(np_vector_x[1] - np_vector_y[1])**2)"
   ]
  },
  {
   "cell_type": "code",
   "execution_count": 50,
   "id": "ddb883cd-0887-4f42-979e-29035e56569a",
   "metadata": {},
   "outputs": [
    {
     "data": {
      "text/plain": [
       "np.int64(10)"
      ]
     },
     "execution_count": 50,
     "metadata": {},
     "output_type": "execute_result"
    }
   ],
   "source": [
    "l2_sqrd_norm"
   ]
  },
  {
   "cell_type": "code",
   "execution_count": 51,
   "id": "7c391cbc-fb5f-425e-b261-fdaef01d84bb",
   "metadata": {},
   "outputs": [
    {
     "data": {
      "text/plain": [
       "np.float64(10.000000000000002)"
      ]
     },
     "execution_count": 51,
     "metadata": {},
     "output_type": "execute_result"
    }
   ],
   "source": [
    "## to validate this, we will just take a square of our L2 we got previously\n",
    "l2**2"
   ]
  },
  {
   "cell_type": "markdown",
   "id": "4e8d9f6c-2859-4e4d-ab57-9d69128b06ae",
   "metadata": {},
   "source": [
    "###### Summary:\n",
    "\n",
    "- Depending on the type of norm, the resultant vector we get is different\n",
    "- We also have some other elements like squared L2 norm, max norms and others but we won't worry that much about that "
   ]
  },
  {
   "cell_type": "markdown",
   "id": "92175e45-60fd-473a-bc46-f405e69beab4",
   "metadata": {},
   "source": [
    "#### d. Orthogonal Vectors and Dot Product "
   ]
  },
  {
   "cell_type": "markdown",
   "id": "fdb23b15-a4d9-45f3-b6db-e0d31a0591bb",
   "metadata": {},
   "source": [
    "- These are vectors that have the angle 90 degree between them (the are right-angled to each others)\n",
    "- This means their dot product is zero\n",
    "- Practically, we want these type of vectors are it shows each vector has some unique information and they do not overlap.\n",
    "- This is crucial to ML concepts like reducing overfitting as we can determine whether two vectors provide the same information or uniqe\n",
    "- It is typically used in Feature Engineering, and Dimensionality Reduction"
   ]
  },
  {
   "cell_type": "code",
   "execution_count": 52,
   "id": "feb70407-3cf7-49cf-96e3-941750d29194",
   "metadata": {},
   "outputs": [],
   "source": [
    "v3= np.dot(np_vector_y, np_vector_x)"
   ]
  },
  {
   "cell_type": "code",
   "execution_count": 53,
   "id": "2796cd48-54fb-4e43-b0d4-cf084aeb42d6",
   "metadata": {},
   "outputs": [
    {
     "data": {
      "text/plain": [
       "np.int64(22)"
      ]
     },
     "execution_count": 53,
     "metadata": {},
     "output_type": "execute_result"
    }
   ],
   "source": [
    "v3"
   ]
  },
  {
   "cell_type": "code",
   "execution_count": null,
   "id": "69cda4af-3c37-4f04-babb-eee7a5023e85",
   "metadata": {},
   "outputs": [],
   "source": []
  },
  {
   "cell_type": "code",
   "execution_count": null,
   "id": "e7807626-9e6e-4493-bd5a-672b6b38fb7d",
   "metadata": {},
   "outputs": [],
   "source": []
  },
  {
   "cell_type": "code",
   "execution_count": null,
   "id": "2c3c315e-d163-4f17-8b2a-8614cdb779a7",
   "metadata": {},
   "outputs": [],
   "source": []
  },
  {
   "cell_type": "markdown",
   "id": "4ddf250e-eca5-46df-b3f2-8a10ff5d5c81",
   "metadata": {},
   "source": [
    "## 3. Matrices"
   ]
  },
  {
   "cell_type": "markdown",
   "id": "682ff79c-4d12-463c-9214-b914078a7618",
   "metadata": {},
   "source": [
    "- Matrices are linearly transformations or a 2d array\n",
    "- They are comprised of rows and columns $X_{mxn}$"
   ]
  },
  {
   "cell_type": "code",
   "execution_count": 54,
   "id": "b593a2ca-59b4-4d4e-a964-f2579abccb45",
   "metadata": {},
   "outputs": [
    {
     "data": {
      "text/plain": [
       "array([[2, 3, 4],\n",
       "       [5, 6, 7]])"
      ]
     },
     "execution_count": 54,
     "metadata": {},
     "output_type": "execute_result"
    }
   ],
   "source": [
    "## creating a matrix\n",
    "\n",
    "X= np.array([[2,3,4], [5,6,7]])\n",
    "X"
   ]
  },
  {
   "cell_type": "code",
   "execution_count": 55,
   "id": "938ae172-b60a-4799-9dbc-e499555e834a",
   "metadata": {},
   "outputs": [
    {
     "name": "stdout",
     "output_type": "stream",
     "text": [
      "The size is 6\n",
      "The shape is (2, 3)\n",
      "The dimension is 2\n"
     ]
    }
   ],
   "source": [
    "## checking the shape\n",
    "print(f\"The size is {np.size(X)}\")\n",
    "print(f\"The shape is {np.shape(X)}\")\n",
    "print(f\"The dimension is {np.ndim(X)}\")\n"
   ]
  },
  {
   "cell_type": "code",
   "execution_count": 56,
   "id": "70997172-c380-4606-a046-38dbd0a13433",
   "metadata": {},
   "outputs": [],
   "source": [
    "q= np.array([2,4,4])"
   ]
  },
  {
   "cell_type": "code",
   "execution_count": 57,
   "id": "a46cb8c6-f1b2-4461-b840-752d32f21272",
   "metadata": {},
   "outputs": [
    {
     "data": {
      "text/plain": [
       "array([32, 62])"
      ]
     },
     "execution_count": 57,
     "metadata": {},
     "output_type": "execute_result"
    }
   ],
   "source": [
    "X @ q"
   ]
  },
  {
   "cell_type": "code",
   "execution_count": 58,
   "id": "5d26b636-9767-461b-ac1c-8941502c5d96",
   "metadata": {},
   "outputs": [
    {
     "data": {
      "text/plain": [
       "numpy.ndarray"
      ]
     },
     "execution_count": 58,
     "metadata": {},
     "output_type": "execute_result"
    }
   ],
   "source": [
    "type(X)"
   ]
  },
  {
   "cell_type": "markdown",
   "id": "29afd444-a879-481a-a342-58e14db9be9e",
   "metadata": {},
   "source": [
    "#### Transposing Matrix "
   ]
  },
  {
   "cell_type": "code",
   "execution_count": 59,
   "id": "3a5accc9-fd21-42d4-a13e-4b566920194a",
   "metadata": {},
   "outputs": [
    {
     "data": {
      "text/plain": [
       "array([[2, 3, 4],\n",
       "       [5, 6, 7]])"
      ]
     },
     "execution_count": 59,
     "metadata": {},
     "output_type": "execute_result"
    }
   ],
   "source": [
    "M= np.array([[2,3,4], [5,6,7]])\n",
    "M"
   ]
  },
  {
   "cell_type": "code",
   "execution_count": 60,
   "id": "90129b59-2874-437e-9974-e9d2c77e6624",
   "metadata": {},
   "outputs": [
    {
     "data": {
      "text/plain": [
       "array([[2, 5],\n",
       "       [3, 6],\n",
       "       [4, 7]])"
      ]
     },
     "execution_count": 60,
     "metadata": {},
     "output_type": "execute_result"
    }
   ],
   "source": [
    "np.transpose(M)"
   ]
  },
  {
   "cell_type": "markdown",
   "id": "82167646-c0d7-4665-94cb-78f9d8252b6e",
   "metadata": {},
   "source": [
    "#### Adding and Scale Multiplying A Matrix"
   ]
  },
  {
   "cell_type": "markdown",
   "id": "89b375ff-b170-45db-ab3b-43f9e1dd53e7",
   "metadata": {},
   "source": [
    "Using our Matrix M"
   ]
  },
  {
   "cell_type": "code",
   "execution_count": 61,
   "id": "43b2b19b-f813-47df-b173-78f1d247ad4b",
   "metadata": {},
   "outputs": [
    {
     "name": "stdout",
     "output_type": "stream",
     "text": [
      "[[ 4  6  8]\n",
      " [10 12 14]]\n",
      "\n",
      "\n",
      "[[4 5 6]\n",
      " [7 8 9]]\n"
     ]
    }
   ],
   "source": [
    "print(M*2)\n",
    "print(\"\\n\")\n",
    "print(M+2)"
   ]
  },
  {
   "cell_type": "markdown",
   "id": "8eb2c61d-adbe-4d77-b072-93abe65e78ff",
   "metadata": {},
   "source": [
    "#### Types Of Matrix Multiplication Operations"
   ]
  },
  {
   "cell_type": "markdown",
   "id": "91efb293-d4fe-4525-9056-df118556db2d",
   "metadata": {},
   "source": [
    "- In matrices, we have various types of multiplciations and in this section, we will be looking at each and those relevant to ML.\n",
    "\n",
    "In ML, we mostly make use of:\n",
    "\n",
    "- Dot Product\n",
    "- Matrix Vector Multiplication/Matrix- Matrix Multiplication\n",
    "- Hadaman Product \n",
    "- Cross Product -  We do  not really use this in the ML space.\n",
    "\n",
    "In this section, I will walk you through each, and their practicality in the ML world. "
   ]
  },
  {
   "cell_type": "markdown",
   "id": "c82caf22-e484-4a7c-902f-7872e8320b95",
   "metadata": {},
   "source": [
    "##### i. Dot Product\n",
    "\n",
    "- The dot product is the sum of a corresponding coordinate by coordinate multiplication to provide a scalar value\n",
    "- This scalar value tells use a lot about our data including telling us if two vectors are related, opposite or not related.\n",
    "- A"
   ]
  },
  {
   "cell_type": "code",
   "execution_count": 62,
   "id": "2c6c7a0d-a59e-42a3-ae0c-c010119c8e8b",
   "metadata": {},
   "outputs": [
    {
     "data": {
      "text/plain": [
       "array([[ 2,  3,  4,  5],\n",
       "       [ 2,  4,  5,  3],\n",
       "       [32,  3,  5,  3]])"
      ]
     },
     "execution_count": 62,
     "metadata": {},
     "output_type": "execute_result"
    }
   ],
   "source": [
    "M1= np.array([[2,3,4,5],[2,4,5,3], [32,3,5,3]])\n",
    "M2= np.array([[2,33,4,6],[2,9,5,8], [32,7,7,3]])\n",
    "M1"
   ]
  },
  {
   "cell_type": "code",
   "execution_count": 63,
   "id": "9d6976da-144c-4d80-9575-3dc4fcc19a42",
   "metadata": {},
   "outputs": [
    {
     "data": {
      "text/plain": [
       "array([[ 2, 33,  4,  6],\n",
       "       [ 2,  9,  5,  8],\n",
       "       [32,  7,  7,  3]])"
      ]
     },
     "execution_count": 63,
     "metadata": {},
     "output_type": "execute_result"
    }
   ],
   "source": [
    "M2= np.array([[2,33,4,6],[2,9,5,8], [32,7,7,3]])\n",
    "\n",
    "M2"
   ]
  },
  {
   "cell_type": "code",
   "execution_count": 64,
   "id": "6acd85c2-5df4-4b27-925f-76e122930891",
   "metadata": {},
   "outputs": [
    {
     "name": "stdout",
     "output_type": "stream",
     "text": [
      "(3, 4)\n",
      "(3, 4)\n"
     ]
    }
   ],
   "source": [
    "print(M1.shape)\n",
    "print(M2.shape)"
   ]
  },
  {
   "cell_type": "code",
   "execution_count": 65,
   "id": "d580fc64-9215-4c3d-8cff-36bc9576b616",
   "metadata": {},
   "outputs": [],
   "source": [
    "M3= M1*M2"
   ]
  },
  {
   "cell_type": "code",
   "execution_count": 66,
   "id": "6c15cc11-d9e8-4f3b-8c64-9185ee724cf3",
   "metadata": {},
   "outputs": [
    {
     "data": {
      "text/plain": [
       "array([[   4,   99,   16,   30],\n",
       "       [   4,   36,   25,   24],\n",
       "       [1024,   21,   35,    9]])"
      ]
     },
     "execution_count": 66,
     "metadata": {},
     "output_type": "execute_result"
    }
   ],
   "source": [
    "M3"
   ]
  },
  {
   "cell_type": "code",
   "execution_count": null,
   "id": "251b6d98-4dc2-455b-b698-5f15ceb0de3f",
   "metadata": {},
   "outputs": [],
   "source": []
  },
  {
   "cell_type": "code",
   "execution_count": 67,
   "id": "b32a655e-47d2-4d51-a78b-e485bc6c3066",
   "metadata": {},
   "outputs": [],
   "source": [
    "M1= np.array([[2,3,4,5], [2,3,5,6]])\n",
    "M2= np.array([[2,3,4,6], [2,3,6,7], [8,6,5,3], [7,9,5,3]])"
   ]
  },
  {
   "cell_type": "code",
   "execution_count": 68,
   "id": "5ed2a91d-2167-41f4-b632-0b386592f4a8",
   "metadata": {},
   "outputs": [
    {
     "data": {
      "text/plain": [
       "array([[2, 3, 4, 5],\n",
       "       [2, 3, 5, 6]])"
      ]
     },
     "execution_count": 68,
     "metadata": {},
     "output_type": "execute_result"
    }
   ],
   "source": [
    "M1"
   ]
  },
  {
   "cell_type": "code",
   "execution_count": 69,
   "id": "9a4bd9d3-bc9f-4941-82e0-f24d0286aba8",
   "metadata": {},
   "outputs": [
    {
     "data": {
      "text/plain": [
       "array([[2, 3, 4, 6],\n",
       "       [2, 3, 6, 7],\n",
       "       [8, 6, 5, 3],\n",
       "       [7, 9, 5, 3]])"
      ]
     },
     "execution_count": 69,
     "metadata": {},
     "output_type": "execute_result"
    }
   ],
   "source": [
    "M2"
   ]
  },
  {
   "cell_type": "code",
   "execution_count": 70,
   "id": "097d650a-b0fe-46ad-a048-f24afef8e305",
   "metadata": {},
   "outputs": [
    {
     "name": "stdout",
     "output_type": "stream",
     "text": [
      "(2, 4)\n",
      "(4, 4)\n"
     ]
    }
   ],
   "source": [
    "print(M1.shape)\n",
    "print(M2.shape)"
   ]
  },
  {
   "cell_type": "code",
   "execution_count": 71,
   "id": "3018bbae-ab1a-4d18-8883-6f67b26e2a58",
   "metadata": {},
   "outputs": [],
   "source": [
    "M4= M1@M2"
   ]
  },
  {
   "cell_type": "code",
   "execution_count": 72,
   "id": "bdd32f26-26fb-4b6a-9c12-8b32a72b1544",
   "metadata": {},
   "outputs": [
    {
     "data": {
      "text/plain": [
       "array([[77, 84, 71, 60],\n",
       "       [92, 99, 81, 66]])"
      ]
     },
     "execution_count": 72,
     "metadata": {},
     "output_type": "execute_result"
    }
   ],
   "source": [
    "M4"
   ]
  },
  {
   "cell_type": "markdown",
   "id": "1c9a576f",
   "metadata": {},
   "source": [
    "### Matrix Inversion"
   ]
  },
  {
   "cell_type": "markdown",
   "id": "cca055f4",
   "metadata": {},
   "source": [
    "- Essentially, if you want to fnd where your orignial vector lies, you can multiply the output vector \n",
    "by the matrix inverse \n",
    "- This helps us find variables, if we have known inputs and outputs, essentially, it allows us know what the input weights are\n",
    "- This is representend as $X^-1$\n",
    "- If we multiply the Matrix X .$X^-1$= I, where I is Identity\n",
    "- For us to be able to find the matrix inverse, the matrix needs  to have a determinant\n",
    "- This means, if our matrix is dependent or has a reduced rank, we cnanot find its inverse.\n",
    "- Finally this can be counted if the matrix ix squared"
   ]
  },
  {
   "cell_type": "markdown",
   "id": "fb1a9998",
   "metadata": {},
   "source": [
    "### Practicality In ML"
   ]
  },
  {
   "cell_type": "markdown",
   "id": "7b289595",
   "metadata": {},
   "source": [
    "- "
   ]
  },
  {
   "cell_type": "code",
   "execution_count": 73,
   "id": "b698be17",
   "metadata": {},
   "outputs": [
    {
     "ename": "SyntaxError",
     "evalue": "invalid syntax (1982677902.py, line 1)",
     "output_type": "error",
     "traceback": [
      "  \u001b[36mCell\u001b[39m\u001b[36m \u001b[39m\u001b[32mIn[73]\u001b[39m\u001b[32m, line 1\u001b[39m\n\u001b[31m    \u001b[39m\u001b[31m- This helps us to  find the values of a\u001b[39m\n           ^\n\u001b[31mSyntaxError\u001b[39m\u001b[31m:\u001b[39m invalid syntax\n"
     ]
    }
   ],
   "source": [
    "- This helps us to  find the values of a "
   ]
  },
  {
   "cell_type": "code",
   "execution_count": null,
   "id": "d6e72e4c",
   "metadata": {},
   "outputs": [],
   "source": [
    "M1= np.array([[2,4],[5,6]])"
   ]
  },
  {
   "cell_type": "code",
   "execution_count": null,
   "id": "d20c1343",
   "metadata": {},
   "outputs": [],
   "source": [
    "M1_inverse= np.linalg.inv(M1)"
   ]
  },
  {
   "cell_type": "code",
   "execution_count": null,
   "id": "2c64fc4d",
   "metadata": {},
   "outputs": [
    {
     "data": {
      "text/plain": [
       "array([[-0.75 ,  0.5  ],\n",
       "       [ 0.625, -0.25 ]])"
      ]
     },
     "execution_count": 85,
     "metadata": {},
     "output_type": "execute_result"
    }
   ],
   "source": [
    "M1_inverse"
   ]
  },
  {
   "cell_type": "markdown",
   "id": "a07201f5",
   "metadata": {},
   "source": [
    "##### Trying faulty matrix inversions \n",
    "\n"
   ]
  },
  {
   "cell_type": "markdown",
   "id": "5543f169",
   "metadata": {},
   "source": [
    "\n",
    "##### Non-square Matrix "
   ]
  },
  {
   "cell_type": "code",
   "execution_count": null,
   "id": "b2929b4a",
   "metadata": {},
   "outputs": [],
   "source": [
    "M_nsq= np.array([[3,4,5], [3,54,2]])"
   ]
  },
  {
   "cell_type": "code",
   "execution_count": 76,
   "id": "5edef3eb",
   "metadata": {},
   "outputs": [
    {
     "ename": "LinAlgError",
     "evalue": "Last 2 dimensions of the array must be square",
     "output_type": "error",
     "traceback": [
      "\u001b[31m---------------------------------------------------------------------------\u001b[39m",
      "\u001b[31mLinAlgError\u001b[39m                               Traceback (most recent call last)",
      "\u001b[36mCell\u001b[39m\u001b[36m \u001b[39m\u001b[32mIn[76]\u001b[39m\u001b[32m, line 1\u001b[39m\n\u001b[32m----> \u001b[39m\u001b[32m1\u001b[39m inv_M_nsq= \u001b[43mnp\u001b[49m\u001b[43m.\u001b[49m\u001b[43mlinalg\u001b[49m\u001b[43m.\u001b[49m\u001b[43minv\u001b[49m\u001b[43m(\u001b[49m\u001b[43mM_nsq\u001b[49m\u001b[43m)\u001b[49m\n",
      "\u001b[36mFile \u001b[39m\u001b[32m~/Desktop/Git_Repos/Math_4_ML/venv/lib/python3.12/site-packages/numpy/linalg/_linalg.py:603\u001b[39m, in \u001b[36minv\u001b[39m\u001b[34m(a)\u001b[39m\n\u001b[32m    601\u001b[39m a, wrap = _makearray(a)\n\u001b[32m    602\u001b[39m _assert_stacked_2d(a)\n\u001b[32m--> \u001b[39m\u001b[32m603\u001b[39m \u001b[43m_assert_stacked_square\u001b[49m\u001b[43m(\u001b[49m\u001b[43ma\u001b[49m\u001b[43m)\u001b[49m\n\u001b[32m    604\u001b[39m t, result_t = _commonType(a)\n\u001b[32m    606\u001b[39m signature = \u001b[33m'\u001b[39m\u001b[33mD->D\u001b[39m\u001b[33m'\u001b[39m \u001b[38;5;28;01mif\u001b[39;00m isComplexType(t) \u001b[38;5;28;01melse\u001b[39;00m \u001b[33m'\u001b[39m\u001b[33md->d\u001b[39m\u001b[33m'\u001b[39m\n",
      "\u001b[36mFile \u001b[39m\u001b[32m~/Desktop/Git_Repos/Math_4_ML/venv/lib/python3.12/site-packages/numpy/linalg/_linalg.py:202\u001b[39m, in \u001b[36m_assert_stacked_square\u001b[39m\u001b[34m(*arrays)\u001b[39m\n\u001b[32m    200\u001b[39m m, n = a.shape[-\u001b[32m2\u001b[39m:]\n\u001b[32m    201\u001b[39m \u001b[38;5;28;01mif\u001b[39;00m m != n:\n\u001b[32m--> \u001b[39m\u001b[32m202\u001b[39m     \u001b[38;5;28;01mraise\u001b[39;00m LinAlgError(\u001b[33m'\u001b[39m\u001b[33mLast 2 dimensions of the array must be square\u001b[39m\u001b[33m'\u001b[39m)\n",
      "\u001b[31mLinAlgError\u001b[39m: Last 2 dimensions of the array must be square"
     ]
    }
   ],
   "source": [
    "inv_M_nsq= np.linalg.inv(M_nsq)"
   ]
  },
  {
   "cell_type": "code",
   "execution_count": 77,
   "id": "0a7faf73",
   "metadata": {},
   "outputs": [],
   "source": [
    "M_dep= np.array([[2,4],[1,2]])"
   ]
  },
  {
   "cell_type": "code",
   "execution_count": 83,
   "id": "32026544",
   "metadata": {},
   "outputs": [
    {
     "name": "stdout",
     "output_type": "stream",
     "text": [
      "The determinant of the matrix [[2 4]\n",
      " [1 2]] is 0.0\n"
     ]
    }
   ],
   "source": [
    "##first let's find the dot product, which tells us if they are orthogonal or not\n",
    "\n",
    "det_M_dep= np.linalg.det(M_dep)\n",
    "print(f\"The determinant of the matrix {M_dep} is {det_M_dep}\")"
   ]
  },
  {
   "cell_type": "code",
   "execution_count": 78,
   "id": "5a241027",
   "metadata": {},
   "outputs": [
    {
     "data": {
      "image/png": "[encoded data removed]",
      "text/plain": [
       "<Figure size 640x480 with 1 Axes>"
      ]
     },
     "metadata": {},
     "output_type": "display_data"
    }
   ],
   "source": [
    "## let's plot them:\n",
    "\n",
    "import numpy as np\n",
    "import matplotlib.pyplot as plt\n",
    "\n",
    "points = np.array([[2, 4], [1, 2]])\n",
    "\n",
    "# Split into x and y coordinates\n",
    "x = points[:, 0]\n",
    "y = points[:, 1]\n",
    "\n",
    "# Plot the points\n",
    "plt.scatter(x, y, color='blue', label='Points')\n",
    "\n",
    "# Optionally connect them with a line\n",
    "plt.plot(x, y, color='lightgray', linestyle='--')\n",
    "\n",
    "# Label axes\n",
    "plt.xlabel('X')\n",
    "plt.ylabel('Y')\n",
    "plt.title('2D Points Plot')\n",
    "plt.legend()\n",
    "plt.grid(True)\n",
    "plt.axis('equal')  # optional, keeps the x and y scaling equal\n",
    "\n",
    "plt.show()\n"
   ]
  },
  {
   "cell_type": "markdown",
   "id": "bc219212",
   "metadata": {},
   "source": [
    "\n",
    "So, as you can see:\n",
    "\n",
    "- Even for square matrices, they need to be linearly independent; det has to be a value other than zero. "
   ]
  },
  {
   "cell_type": "code",
   "execution_count": 84,
   "id": "dd6ef21b",
   "metadata": {},
   "outputs": [
    {
     "ename": "LinAlgError",
     "evalue": "Singular matrix",
     "output_type": "error",
     "traceback": [
      "\u001b[31m---------------------------------------------------------------------------\u001b[39m",
      "\u001b[31mLinAlgError\u001b[39m                               Traceback (most recent call last)",
      "\u001b[36mCell\u001b[39m\u001b[36m \u001b[39m\u001b[32mIn[84]\u001b[39m\u001b[32m, line 3\u001b[39m\n\u001b[32m      1\u001b[39m \u001b[38;5;66;03m## finding out if the values are LD\u001b[39;00m\n\u001b[32m----> \u001b[39m\u001b[32m3\u001b[39m inv_M_dep= \u001b[43mnp\u001b[49m\u001b[43m.\u001b[49m\u001b[43mlinalg\u001b[49m\u001b[43m.\u001b[49m\u001b[43minv\u001b[49m\u001b[43m(\u001b[49m\u001b[43mM_dep\u001b[49m\u001b[43m)\u001b[49m\n",
      "\u001b[36mFile \u001b[39m\u001b[32m~/Desktop/Git_Repos/Math_4_ML/venv/lib/python3.12/site-packages/numpy/linalg/_linalg.py:609\u001b[39m, in \u001b[36minv\u001b[39m\u001b[34m(a)\u001b[39m\n\u001b[32m    606\u001b[39m signature = \u001b[33m'\u001b[39m\u001b[33mD->D\u001b[39m\u001b[33m'\u001b[39m \u001b[38;5;28;01mif\u001b[39;00m isComplexType(t) \u001b[38;5;28;01melse\u001b[39;00m \u001b[33m'\u001b[39m\u001b[33md->d\u001b[39m\u001b[33m'\u001b[39m\n\u001b[32m    607\u001b[39m \u001b[38;5;28;01mwith\u001b[39;00m errstate(call=_raise_linalgerror_singular, invalid=\u001b[33m'\u001b[39m\u001b[33mcall\u001b[39m\u001b[33m'\u001b[39m,\n\u001b[32m    608\u001b[39m               over=\u001b[33m'\u001b[39m\u001b[33mignore\u001b[39m\u001b[33m'\u001b[39m, divide=\u001b[33m'\u001b[39m\u001b[33mignore\u001b[39m\u001b[33m'\u001b[39m, under=\u001b[33m'\u001b[39m\u001b[33mignore\u001b[39m\u001b[33m'\u001b[39m):\n\u001b[32m--> \u001b[39m\u001b[32m609\u001b[39m     ainv = \u001b[43m_umath_linalg\u001b[49m\u001b[43m.\u001b[49m\u001b[43minv\u001b[49m\u001b[43m(\u001b[49m\u001b[43ma\u001b[49m\u001b[43m,\u001b[49m\u001b[43m \u001b[49m\u001b[43msignature\u001b[49m\u001b[43m=\u001b[49m\u001b[43msignature\u001b[49m\u001b[43m)\u001b[49m\n\u001b[32m    610\u001b[39m \u001b[38;5;28;01mreturn\u001b[39;00m wrap(ainv.astype(result_t, copy=\u001b[38;5;28;01mFalse\u001b[39;00m))\n",
      "\u001b[36mFile \u001b[39m\u001b[32m~/Desktop/Git_Repos/Math_4_ML/venv/lib/python3.12/site-packages/numpy/linalg/_linalg.py:104\u001b[39m, in \u001b[36m_raise_linalgerror_singular\u001b[39m\u001b[34m(err, flag)\u001b[39m\n\u001b[32m    103\u001b[39m \u001b[38;5;28;01mdef\u001b[39;00m\u001b[38;5;250m \u001b[39m\u001b[34m_raise_linalgerror_singular\u001b[39m(err, flag):\n\u001b[32m--> \u001b[39m\u001b[32m104\u001b[39m     \u001b[38;5;28;01mraise\u001b[39;00m LinAlgError(\u001b[33m\"\u001b[39m\u001b[33mSingular matrix\u001b[39m\u001b[33m\"\u001b[39m)\n",
      "\u001b[31mLinAlgError\u001b[39m: Singular matrix"
     ]
    }
   ],
   "source": [
    "## finding out if the values are LD\n",
    "\n",
    "inv_M_dep= np.linalg.inv(M_dep)"
   ]
  },
  {
   "cell_type": "code",
   "execution_count": null,
   "id": "2d37dab9",
   "metadata": {},
   "outputs": [],
   "source": []
  },
  {
   "cell_type": "markdown",
   "id": "9299f104-577b-4a70-ab7b-973fc5866903",
   "metadata": {},
   "source": [
    "### Reduction"
   ]
  },
  {
   "cell_type": "markdown",
   "id": "069c52a7-6b95-413c-9aac-35da74f20b46",
   "metadata": {},
   "source": [
    "- This is helpful in cases where we need to compress data into a single value\n",
    "- This is usually seen in a compilation of the various loss functions we have calculated \n",
    "- Eg if we want to find the total sum of errors across our loss function"
   ]
  },
  {
   "cell_type": "code",
   "execution_count": null,
   "id": "8ea55569-c7bc-4c96-8615-86c7a45ea5cd",
   "metadata": {},
   "outputs": [
    {
     "data": {
      "text/plain": [
       "array([[ 2,  3,  4,  5],\n",
       "       [ 2,  4,  5,  3],\n",
       "       [32,  3,  5,  3]])"
      ]
     },
     "execution_count": 322,
     "metadata": {},
     "output_type": "execute_result"
    }
   ],
   "source": [
    "M1"
   ]
  },
  {
   "cell_type": "code",
   "execution_count": null,
   "id": "f0c9d414-ff19-4865-9c58-c6a20a6509ef",
   "metadata": {},
   "outputs": [
    {
     "data": {
      "text/plain": [
       "71"
      ]
     },
     "execution_count": 324,
     "metadata": {},
     "output_type": "execute_result"
    }
   ],
   "source": [
    "np.sum(m1)"
   ]
  },
  {
   "cell_type": "markdown",
   "id": "cf491737-5ff2-4a80-8b56-b20c1596380e",
   "metadata": {},
   "source": [
    "### Eigenvectors and Eigenvalues"
   ]
  },
  {
   "cell_type": "markdown",
   "id": "9dcd291b",
   "metadata": {},
   "source": [
    "- An eignvector is any vector that keeps its span after it has been linearly transformed.\n",
    "- The eignen value is the magnitude to which the eigenvector has been increased by or squished durnig the transformation.\n",
    "- The columns of each matrix is equal to the number of eigenvectors"
   ]
  },
  {
   "cell_type": "code",
   "execution_count": 86,
   "id": "0e326739",
   "metadata": {},
   "outputs": [],
   "source": [
    "mat= np.array([[2,4], [5,6]])"
   ]
  },
  {
   "cell_type": "code",
   "execution_count": null,
   "id": "aa34cfad",
   "metadata": {},
   "outputs": [],
   "source": [
    "lambdas, V= np.linalg.eig(mat)"
   ]
  },
  {
   "cell_type": "code",
   "execution_count": 88,
   "id": "7181b3d5",
   "metadata": {},
   "outputs": [
    {
     "name": "stdout",
     "output_type": "stream",
     "text": [
      "The eigenvectors of [[2 4]\n",
      " [5 6]] is [[-0.8097086  -0.50158596]\n",
      " [ 0.58683216 -0.86510781]], and the eigenvalues are [-0.89897949  8.89897949] \n"
     ]
    }
   ],
   "source": [
    "print(f\"The eigenvectors of {mat} is {V}, and the eigenvalues are {lambdas} \")"
   ]
  },
  {
   "cell_type": "code",
   "execution_count": null,
   "id": "102ed8ca",
   "metadata": {},
   "outputs": [],
   "source": []
  }
 ],
 "metadata": {
  "kernelspec": {
   "display_name": "venv",
   "language": "python",
   "name": "python3"
  },
  "language_info": {
   "codemirror_mode": {
    "name": "ipython",
    "version": 3
   },
   "file_extension": ".py",
   "mimetype": "text/x-python",
   "name": "python",
   "nbconvert_exporter": "python",
   "pygments_lexer": "ipython3",
   "version": "3.12.5"
  }
 },
 "nbformat": 4,
 "nbformat_minor": 5
}
